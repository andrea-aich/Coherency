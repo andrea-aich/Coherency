{
 "metadata": {
  "name": "",
  "signature": "sha256:cce7309b6e3f5dba70d461acc6d8b49ec8a0d6777bad7063457d22abf4725dae"
 },
 "nbformat": 3,
 "nbformat_minor": 0,
 "worksheets": [
  {
   "cells": [
    {
     "cell_type": "heading",
     "level": 1,
     "metadata": {},
     "source": [
      "Coherency"
     ]
    },
    {
     "cell_type": "markdown",
     "metadata": {},
     "source": [
      "Understanding coherency in an intuitive manner with modifyiable examples. Coherency being a complex measure that tells us information about two signals. "
     ]
    },
    {
     "cell_type": "markdown",
     "metadata": {},
     "source": [
      "Signal $x(t)$ and $y(t)$ in the time domain. "
     ]
    },
    {
     "cell_type": "code",
     "collapsed": false,
     "input": [
      "# (*) To communicate with Plotly's server, sign in with credentials file\n",
      "import plotly.plotly as py\n",
      "\n",
      "# (*) Useful Python/Plotly tools\n",
      "import plotly.tools as tls\n",
      "\n",
      "# (*) Graph objects to piece together plots\n",
      "from plotly.graph_objs import *\n",
      "\n",
      "import numpy as np  # (*) numpy for math functions and arrays"
     ],
     "language": "python",
     "metadata": {},
     "outputs": [],
     "prompt_number": 392
    },
    {
     "cell_type": "code",
     "collapsed": false,
     "input": [
      "# (1) Two lists of numbers\n",
      "time = 20 # seconds\n",
      "Fs = 1000 # Hz, sampling frequency\n",
      "noise_coef = .1 # noise coefficient\n",
      "t = np.linspace(0,time*Fs,time*Fs,endpoint=True) # time points in miliseconds, 10 seconds at 1000 Hz\n",
      "freq1 = 10 # Hz, first frequency\n",
      "freq2 = 32 # Hz, second frequency \n",
      "\n",
      "phase_shift = .5*np.pi # in radians\n",
      "s1t = np.sin(2*np.pi*t*freq1/Fs) + noise_coef*np.random.normal(0,1,time*Fs)\n",
      "s2t = np.sin(2*np.pi*(t*freq2/Fs)+ phase_shift) + noise_coef*np.random.normal(0,1,time*Fs)\n",
      "\n",
      "xt = s1t + .2*s2t\n",
      "yt = .3*s1t + s2t\n",
      "\n",
      "# stack two subplots vertically\n",
      "fig = tls.make_subplots(rows=2)\n",
      " \n",
      "fig.append_trace(dict(x=t[0:100], y=xt[0:100]), 1, 1)\n",
      "fig.append_trace(dict(x=t[0:100], y=yt[0:100]), 2, 1)\n",
      "\n",
      "#print(fig.to_string())\n"
     ],
     "language": "python",
     "metadata": {},
     "outputs": [
      {
       "output_type": "stream",
       "stream": "stdout",
       "text": [
        "This is the format of your plot grid:\n",
        "[ (1,1) x1,y1 ]\n",
        "[ (2,1) x2,y2 ]\n",
        "\n"
       ]
      }
     ],
     "prompt_number": 393
    },
    {
     "cell_type": "code",
     "collapsed": false,
     "input": [
      "# (@) Call the plot() function of the plotly.plotly submodule,\n",
      "#     save figure as 's0_first_plot'\n",
      "py.iplot(fig, filename='s0_first_plot')"
     ],
     "language": "python",
     "metadata": {},
     "outputs": [
      {
       "html": [
        "<iframe id=\"igraph\" scrolling=\"no\" style=\"border:none;\"seamless=\"seamless\" src=\"https://plot.ly/~AndreaIbarraChaoul/9.embed\" height=\"525px\" width=\"100%\"></iframe>"
       ],
       "metadata": {},
       "output_type": "pyout",
       "prompt_number": 394,
       "text": [
        "<plotly.tools.PlotlyDisplay at 0x1055b9e80>"
       ]
      }
     ],
     "prompt_number": 394
    },
    {
     "cell_type": "code",
     "collapsed": false,
     "input": [
      "# (*) Graph objects to piece together plots\n",
      "from plotly.graph_objs import Data, Layout, Figure"
     ],
     "language": "python",
     "metadata": {},
     "outputs": [],
     "prompt_number": 395
    },
    {
     "cell_type": "markdown",
     "metadata": {},
     "source": [
      "Zoom in to see the difference between $x(t)$ and $y(t)$."
     ]
    },
    {
     "cell_type": "markdown",
     "metadata": {},
     "source": [
      "To compute the ${coherency}$ we need to cut the time series into epochs of length $T$. $T$ usually ranges from 250 ms to 1 second. We will choose $T$=500ms. Since we recorded 20 seconds, we will have 40 epochs. "
     ]
    },
    {
     "cell_type": "code",
     "collapsed": false,
     "input": [
      "#Making a matrix of the epochs of x(t)\n",
      "T = 500 # ms length of the epoch\n",
      "X = np.reshape(xt,(time*Fs/T,T))\n",
      "Y = np.reshape(yt,(time*Fs/T,T))\n",
      "\n",
      "# And we check the size of our epochs matrix\n",
      "np.shape(X)"
     ],
     "language": "python",
     "metadata": {},
     "outputs": [
      {
       "metadata": {},
       "output_type": "pyout",
       "prompt_number": 396,
       "text": [
        "(40, 500)"
       ]
      }
     ],
     "prompt_number": 396
    },
    {
     "cell_type": "markdown",
     "metadata": {},
     "source": [
      "Now we compute the Fourier transform for each epoch $x_i(t)$. We will get 40 spectra for $x(t)$ which we will call $x_i(f)$. The same goes for $y(t)$. "
     ]
    },
    {
     "cell_type": "code",
     "collapsed": false,
     "input": [
      "from scipy.fftpack import fft\n",
      "from scipy.signal import hanning\n",
      "H_window = hanning(T)"
     ],
     "language": "python",
     "metadata": {},
     "outputs": [],
     "prompt_number": 397
    },
    {
     "cell_type": "code",
     "collapsed": false,
     "input": [
      "# We need to find the place of the frequencies freq1 and freq2 as columns in the Xf and Yf matrices.\n",
      "# We do this by using the interrelationships between time and frequency domains\n",
      "\n",
      "freq_res = 1/(T/1000)\n",
      "N = Fs*(T/1000) # number of samples\n",
      "Fmax = (N/2)*freq_res\n",
      "W = np.linspace(0,Fmax,T)*freq_res # here we store the frequency indices"
     ],
     "language": "python",
     "metadata": {},
     "outputs": [],
     "prompt_number": 398
    },
    {
     "cell_type": "code",
     "collapsed": false,
     "input": [
      "from plotly.graph_objs import Line  # (*) import Line \n",
      "Xf = np.zeros((40,500),dtype=\"complex_\")\n",
      "Yf = np.zeros((40,500),dtype=\"complex_\")\n",
      "\n",
      "for i in range(40):\n",
      "    Xf[i,:]=fft(X[i,:]*H_window)\n",
      "    dataA = Scatter(\n",
      "            x = W[0:N/2], # we only take the first half because of the symmetry\n",
      "            y=np.abs(fft(X[i,:]*H_window))[0:N/2],\n",
      "            line=Line(\n",
      "                color='red'   # set line color to black\n",
      "            )\n",
      "        ) \n",
      "    \n",
      "for i in range(40):\n",
      "    Yf[i,:]=fft(Y[i,:]*H_window)\n",
      "    dataB = Scatter(\n",
      "            x = W[0:N/2], \n",
      "            y=np.abs(fft(Y[i,:]*H_window))[0:N/2], \n",
      "            line=Line(\n",
      "                color='blue'   # set line color to black\n",
      "            )\n",
      "        )\n",
      "\n",
      "# We saved the fourier transforms of the signals in Xf and Yf"
     ],
     "language": "python",
     "metadata": {},
     "outputs": [],
     "prompt_number": 399
    },
    {
     "cell_type": "code",
     "collapsed": false,
     "input": [
      "# Now we plot\n",
      "data = Data([dataA,dataB])\n",
      "\n",
      "fig = Figure()                            # init. Figure object \n",
      "fig['data'] = data \n",
      "py.iplot(fig, filename='Fourier_Spectra')"
     ],
     "language": "python",
     "metadata": {},
     "outputs": [
      {
       "html": [
        "<iframe id=\"igraph\" scrolling=\"no\" style=\"border:none;\"seamless=\"seamless\" src=\"https://plot.ly/~AndreaIbarraChaoul/32.embed\" height=\"525px\" width=\"100%\"></iframe>"
       ],
       "metadata": {},
       "output_type": "pyout",
       "prompt_number": 400,
       "text": [
        "<plotly.tools.PlotlyDisplay at 0x107350390>"
       ]
      }
     ],
     "prompt_number": 400
    },
    {
     "cell_type": "markdown",
     "metadata": {},
     "source": [
      "Now we pick one frequency $f$ and calculate the cross-spectrum $S_{xy}(f)$ of both channels $x$ and $y$ for that frequency $f$. We will choose $f=10$ Hz. The cross-spectrum is defined as follows: \n",
      "\n",
      "$$ S_{xy}(f)= < x(f)y^*(f) > $$\n",
      "\n",
      "where $< >$ stands for the expectation and $^*$ denotes the complex conjugate. "
     ]
    },
    {
     "cell_type": "code",
     "collapsed": false,
     "input": [
      "# We approximate the expectation value with the mean over all the epochs\n",
      "# We will take a narrow band to include from 8 to 12 Hz\n",
      "# To find freq1 in w coordinates (this is, as a column of Xf and Yf), we use this equation:\n",
      "\n",
      "w1 = np.int(freq1/freq_res)\n",
      "\n",
      "Sxy_f1=np.mean(np.mean(Xf[:,w1-1:w1+1])*np.conj(np.mean(Yf[:,w1-1:w1+1])))\n",
      "\n",
      "# Along the way we also include another frequency just to see the difference\n",
      "freq2 = 32\n",
      "w2 = np.int(freq2/freq_res)\n",
      "\n",
      "Sxy_f2=np.mean(np.mean(Xf[:,w2-1:w2+1])*np.conj(np.mean(Yf[:,w2-1:w2+1])))\n"
     ],
     "language": "python",
     "metadata": {},
     "outputs": [],
     "prompt_number": 401
    },
    {
     "cell_type": "code",
     "collapsed": false,
     "input": [
      "# We plot both cross-spectra\n",
      "import plotly.graph_objs as go\n",
      "\n",
      "trace1 = go.Scatter(\n",
      "    x = [np.real(Sxy_f1)],\n",
      "    y = [np.imag(Sxy_f1)],\n",
      "    #r=[np.abs(Sxy_f1)*np.linspace(0,1,3)],\n",
      "    #t=[(360*np.arcsin(np.imag(Sxy_f1)/np.abs(Sxy_f1))/(2*np.pi))*np.ones((1,3))],\n",
      "    name='Sxy_f1',\n",
      "    #mode = 'lines', \n",
      "    marker=dict(\n",
      "        color='blue'\n",
      "    )\n",
      ")\n",
      "trace3 = go.Scatter(\n",
      "    x = [0,np.real(Sxy_f1)],\n",
      "    y = [0,np.imag(Sxy_f1)],\n",
      "    #r=[np.abs(Sxy_f1)*np.linspace(0,1,3)],\n",
      "    #t=[(360*np.arcsin(np.imag(Sxy_f1)/np.abs(Sxy_f1))/(2*np.pi))*np.ones((1,3))],\n",
      "    name='Sxy_f1',\n",
      "    mode = 'lines', \n",
      "    marker=dict(\n",
      "        color='blue'\n",
      "    )\n",
      ")\n",
      "trace2 = go.Scatter(\n",
      "    x = [np.real(Sxy_f2)],\n",
      "    y = [np.imag(Sxy_f2)],\n",
      "    #r=[np.abs(Sxy_f2)*np.linspace(0,1,3)],\n",
      "    #t=[(360*np.arcsin(np.imag(Sxy_f2)/np.abs(Sxy_f2))/(2*np.pi))*np.ones((1,3))],\n",
      "    name='Sxy_f2',\n",
      "    #mode = 'lines',\n",
      "    marker=dict(\n",
      "        color='red'\n",
      "    )\n",
      ")\n",
      "trace4 = go.Scatter(\n",
      "    x = [0,np.real(Sxy_f2)],\n",
      "    y = [0,np.imag(Sxy_f2)],\n",
      "    #r=[np.abs(Sxy_f2)*np.linspace(0,1,3)],\n",
      "    #t=[(360*np.arcsin(np.imag(Sxy_f2)/np.abs(Sxy_f2))/(2*np.pi))*np.ones((1,3))],\n",
      "    name='Sxy_f2',\n",
      "    mode = 'lines',\n",
      "    marker=dict(\n",
      "        color='red'\n",
      "    )\n",
      ")\n",
      "data = [trace1,trace2,trace3,trace4]\n",
      "layout = go.Layout(\n",
      "    title='Cross-Spectra',\n",
      "    font=dict(\n",
      "        family='Arial, sans-serif;',\n",
      "        size=12,\n",
      "        color='#000'\n",
      "    ),\n",
      "    showlegend=True,\n",
      "    orientation=0\n",
      ")\n",
      "fig = go.Figure(data=data, layout=layout)\n",
      "py.iplot(fig, filename='Cross-Spectra')\n"
     ],
     "language": "python",
     "metadata": {},
     "outputs": [
      {
       "html": [
        "<iframe id=\"igraph\" scrolling=\"no\" style=\"border:none;\"seamless=\"seamless\" src=\"https://plot.ly/~AndreaIbarraChaoul/34.embed\" height=\"525px\" width=\"100%\"></iframe>"
       ],
       "metadata": {},
       "output_type": "pyout",
       "prompt_number": 402,
       "text": [
        "<plotly.tools.PlotlyDisplay at 0x10be31ac8>"
       ]
      }
     ],
     "prompt_number": 402
    },
    {
     "cell_type": "markdown",
     "metadata": {},
     "source": [
      "In order to now find the $coherency$ $C_{xy}(f)$ we need to standarize. In this way we will get imaginary numbers that are always within the unit circle. \n",
      "\n",
      "To standarize we do this:\n",
      "\n",
      "$C_{xy}(f) = \\frac{S_{xy}(f)}{{(S_{xx}(f)S_{yy}(f))}^{1/2}}$"
     ]
    },
    {
     "cell_type": "code",
     "collapsed": false,
     "input": [
      "# We reuse the code for S_xy we just use xx or yy. \n",
      "Sxx_f1=np.mean(np.mean(Xf[:,w1-1:w1+1])*np.conj(np.mean(Xf[:,w1-1:w1+1])))\n",
      "Syy_f1=np.mean(np.mean(Yf[:,w1-1:w1+1])*np.conj(np.mean(Yf[:,w1-1:w1+1])))\n",
      "\n",
      "# Along the way we also include another frequency just to see the difference\n",
      "freq2 = 32\n",
      "Sxx_f2=np.mean(np.mean(Xf[:,w2-1:w2+1])*np.conj(np.mean(Xf[:,w2-1:w2+1])))\n",
      "Syy_f2=np.mean(np.mean(Yf[:,w2-1:w2+1])*np.conj(np.mean(Yf[:,w2-1:w2+1])))\n",
      "\n",
      "# We now construct the denominator of the coherency\n",
      "deno_f1 = np.sqrt(np.real(Sxx_f1*Syy_f1))\n",
      "deno_f2 = np.sqrt(np.real(Sxx_f2*Syy_f2))\n",
      "\n",
      "# We finally get the coherency\n",
      "Cxy_f1=Sxy_f1/deno_f1\n",
      "Cxy_f2=Sxy_f2/deno_f2\n"
     ],
     "language": "python",
     "metadata": {},
     "outputs": [],
     "prompt_number": 403
    },
    {
     "cell_type": "code",
     "collapsed": false,
     "input": [
      "trace1 = go.Scatter(\n",
      "    x = [np.real(Cxy_f1)],\n",
      "    y = [np.imag(Cxy_f1)],\n",
      "    #r=[np.abs(Sxy_f1)*np.linspace(0,1,3)],\n",
      "    #t=[(360*np.arcsin(np.imag(Sxy_f1)/np.abs(Sxy_f1))/(2*np.pi))*np.ones((1,3))],\n",
      "    name='Cxy_f1',\n",
      "    #mode = 'lines', \n",
      "    marker=dict(\n",
      "        color='blue'\n",
      "    )\n",
      ")\n",
      "trace3 = go.Scatter(\n",
      "    x = [0,np.real(Cxy_f1)],\n",
      "    y = [0,np.imag(Cxy_f1)],\n",
      "    #r=[np.abs(Sxy_f1)*np.linspace(0,1,3)],\n",
      "    #t=[(360*np.arcsin(np.imag(Sxy_f1)/np.abs(Sxy_f1))/(2*np.pi))*np.ones((1,3))],\n",
      "    #name='Cxy_f1',\n",
      "    mode = 'lines', \n",
      "    marker=dict(\n",
      "        color='blue'\n",
      "    )\n",
      ")\n",
      "trace2 = go.Scatter(\n",
      "    x = [np.real(Cxy_f2)],\n",
      "    y = [np.imag(Cxy_f2)],\n",
      "    #r=[np.abs(Sxy_f2)*np.linspace(0,1,3)],\n",
      "    #t=[(360*np.arcsin(np.imag(Sxy_f2)/np.abs(Sxy_f2))/(2*np.pi))*np.ones((1,3))],\n",
      "    name='Cxy_f2',\n",
      "    #mode = 'lines',\n",
      "    marker=dict(\n",
      "        color='red'\n",
      "    )\n",
      ")\n",
      "trace4 = go.Scatter(\n",
      "    x = [0,np.real(Cxy_f2)],\n",
      "    y = [0,np.imag(Cxy_f2)],\n",
      "    #r=[np.abs(Sxy_f2)*np.linspace(0,1,3)],\n",
      "    #t=[(360*np.arcsin(np.imag(Sxy_f2)/np.abs(Sxy_f2))/(2*np.pi))*np.ones((1,3))],\n",
      "    #name='Cxy_f2',\n",
      "    mode = 'lines',\n",
      "    marker=dict(\n",
      "        color='red'\n",
      "    )\n",
      ")\n",
      "data = [trace1,trace2,trace3,trace4]\n",
      "layout = go.Layout(\n",
      "    title='Coherency',\n",
      "    font=dict(\n",
      "        family='Arial, sans-serif;',\n",
      "        size=12,\n",
      "        color='#000'\n",
      "    ),\n",
      "    showlegend=True,\n",
      "    orientation=0\n",
      ")\n",
      "fig = go.Figure(data=data, layout=layout)\n",
      "py.iplot(fig, filename='s2')\n"
     ],
     "language": "python",
     "metadata": {},
     "outputs": [
      {
       "html": [
        "<iframe id=\"igraph\" scrolling=\"no\" style=\"border:none;\"seamless=\"seamless\" src=\"https://plot.ly/~AndreaIbarraChaoul/28.embed\" height=\"525px\" width=\"100%\"></iframe>"
       ],
       "metadata": {},
       "output_type": "pyout",
       "prompt_number": 404,
       "text": [
        "<plotly.tools.PlotlyDisplay at 0x10be31b38>"
       ]
      }
     ],
     "prompt_number": 404
    },
    {
     "cell_type": "markdown",
     "metadata": {},
     "source": [
      "The $coherence$, $c_{xy}(f)$ is just the length or magnitude of the coherency. \n",
      "\n",
      "$c_{xy}(f) = |C_{xy}(f)|$\n"
     ]
    },
    {
     "cell_type": "code",
     "collapsed": false,
     "input": [
      "# We calculate the coherence now\n",
      "cxy_f1=np.abs(Cxy_f1)\n",
      "cxy_f2=np.abs(Cxy_f2)\n",
      "print(cxy_f1)\n",
      "print(cxy_f2)"
     ],
     "language": "python",
     "metadata": {},
     "outputs": [
      {
       "output_type": "stream",
       "stream": "stdout",
       "text": [
        "1.0\n",
        "1.0\n"
       ]
      }
     ],
     "prompt_number": 405
    },
    {
     "cell_type": "code",
     "collapsed": false,
     "input": [],
     "language": "python",
     "metadata": {},
     "outputs": []
    }
   ],
   "metadata": {}
  }
 ]
}